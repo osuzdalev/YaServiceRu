{
 "cells": [
  {
   "cell_type": "code",
   "execution_count": 4,
   "metadata": {
    "collapsed": true
   },
   "outputs": [
    {
     "name": "stdout",
     "output_type": "stream",
     "text": [
      "Requirement already satisfied: weaviate-client in /Users/osuz/PycharmProjects/YaServiceRu/venv/lib/python3.9/site-packages (3.15.4)\r\n",
      "Requirement already satisfied: tqdm<5.0.0,>=4.59.0 in /Users/osuz/PycharmProjects/YaServiceRu/venv/lib/python3.9/site-packages (from weaviate-client) (4.65.0)\r\n",
      "Requirement already satisfied: validators<0.20.0,>=0.18.2 in /Users/osuz/PycharmProjects/YaServiceRu/venv/lib/python3.9/site-packages (from weaviate-client) (0.19.0)\r\n",
      "Requirement already satisfied: requests<2.29.0,>=2.28.0 in /Users/osuz/PycharmProjects/YaServiceRu/venv/lib/python3.9/site-packages (from weaviate-client) (2.28.2)\r\n",
      "Requirement already satisfied: authlib>=1.1.0 in /Users/osuz/PycharmProjects/YaServiceRu/venv/lib/python3.9/site-packages (from weaviate-client) (1.2.0)\r\n",
      "Requirement already satisfied: cryptography>=3.2 in /Users/osuz/PycharmProjects/YaServiceRu/venv/lib/python3.9/site-packages (from authlib>=1.1.0->weaviate-client) (40.0.1)\r\n",
      "Requirement already satisfied: urllib3<1.27,>=1.21.1 in /Users/osuz/PycharmProjects/YaServiceRu/venv/lib/python3.9/site-packages (from requests<2.29.0,>=2.28.0->weaviate-client) (1.26.15)\r\n",
      "Requirement already satisfied: charset-normalizer<4,>=2 in /Users/osuz/PycharmProjects/YaServiceRu/venv/lib/python3.9/site-packages (from requests<2.29.0,>=2.28.0->weaviate-client) (3.1.0)\r\n",
      "Requirement already satisfied: idna<4,>=2.5 in /Users/osuz/PycharmProjects/YaServiceRu/venv/lib/python3.9/site-packages (from requests<2.29.0,>=2.28.0->weaviate-client) (3.4)\r\n",
      "Requirement already satisfied: certifi>=2017.4.17 in /Users/osuz/PycharmProjects/YaServiceRu/venv/lib/python3.9/site-packages (from requests<2.29.0,>=2.28.0->weaviate-client) (2022.9.24)\r\n",
      "Requirement already satisfied: decorator>=3.4.0 in /Users/osuz/PycharmProjects/YaServiceRu/venv/lib/python3.9/site-packages (from validators<0.20.0,>=0.18.2->weaviate-client) (5.1.1)\r\n",
      "Requirement already satisfied: cffi>=1.12 in /Users/osuz/PycharmProjects/YaServiceRu/venv/lib/python3.9/site-packages (from cryptography>=3.2->authlib>=1.1.0->weaviate-client) (1.15.1)\r\n",
      "Requirement already satisfied: pycparser in /Users/osuz/PycharmProjects/YaServiceRu/venv/lib/python3.9/site-packages (from cffi>=1.12->cryptography>=3.2->authlib>=1.1.0->weaviate-client) (2.21)\r\n",
      "Requirement already satisfied: datasets in /Users/osuz/PycharmProjects/YaServiceRu/venv/lib/python3.9/site-packages (2.10.1)\r\n",
      "Collecting apache-beam\r\n",
      "  Using cached apache-beam-2.46.0.zip (3.1 MB)\r\n",
      "  Preparing metadata (setup.py) ... \u001B[?25ldone\r\n",
      "\u001B[?25hRequirement already satisfied: aiohttp in /Users/osuz/PycharmProjects/YaServiceRu/venv/lib/python3.9/site-packages (from datasets) (3.8.4)\r\n",
      "Requirement already satisfied: requests>=2.19.0 in /Users/osuz/PycharmProjects/YaServiceRu/venv/lib/python3.9/site-packages (from datasets) (2.28.2)\r\n",
      "Requirement already satisfied: pandas in /Users/osuz/PycharmProjects/YaServiceRu/venv/lib/python3.9/site-packages (from datasets) (1.5.3)\r\n",
      "Requirement already satisfied: pyyaml>=5.1 in /Users/osuz/PycharmProjects/YaServiceRu/venv/lib/python3.9/site-packages (from datasets) (6.0)\r\n",
      "Requirement already satisfied: fsspec[http]>=2021.11.1 in /Users/osuz/PycharmProjects/YaServiceRu/venv/lib/python3.9/site-packages (from datasets) (2023.3.0)\r\n",
      "Requirement already satisfied: dill<0.3.7,>=0.3.0 in /Users/osuz/PycharmProjects/YaServiceRu/venv/lib/python3.9/site-packages (from datasets) (0.3.6)\r\n",
      "Requirement already satisfied: huggingface-hub<1.0.0,>=0.2.0 in /Users/osuz/PycharmProjects/YaServiceRu/venv/lib/python3.9/site-packages (from datasets) (0.13.3)\r\n",
      "Requirement already satisfied: multiprocess in /Users/osuz/PycharmProjects/YaServiceRu/venv/lib/python3.9/site-packages (from datasets) (0.70.14)\r\n",
      "Requirement already satisfied: responses<0.19 in /Users/osuz/PycharmProjects/YaServiceRu/venv/lib/python3.9/site-packages (from datasets) (0.18.0)\r\n",
      "Requirement already satisfied: packaging in /Users/osuz/PycharmProjects/YaServiceRu/venv/lib/python3.9/site-packages (from datasets) (23.0)\r\n",
      "Requirement already satisfied: numpy>=1.17 in /Users/osuz/PycharmProjects/YaServiceRu/venv/lib/python3.9/site-packages (from datasets) (1.24.2)\r\n",
      "Requirement already satisfied: xxhash in /Users/osuz/PycharmProjects/YaServiceRu/venv/lib/python3.9/site-packages (from datasets) (3.2.0)\r\n",
      "Requirement already satisfied: pyarrow>=6.0.0 in /Users/osuz/PycharmProjects/YaServiceRu/venv/lib/python3.9/site-packages (from datasets) (11.0.0)\r\n",
      "Requirement already satisfied: tqdm>=4.62.1 in /Users/osuz/PycharmProjects/YaServiceRu/venv/lib/python3.9/site-packages (from datasets) (4.65.0)\r\n",
      "Collecting protobuf<4,>3.12.2\r\n",
      "  Using cached protobuf-3.20.3-py2.py3-none-any.whl (162 kB)\r\n",
      "Collecting crcmod<2.0,>=1.7\r\n",
      "  Using cached crcmod-1.7.tar.gz (89 kB)\r\n",
      "  Preparing metadata (setup.py) ... \u001B[?25ldone\r\n",
      "\u001B[?25hCollecting orjson<4.0\r\n",
      "  Using cached orjson-3.8.9-cp39-cp39-macosx_10_9_x86_64.macosx_11_0_arm64.macosx_10_9_universal2.whl (488 kB)\r\n",
      "Collecting dill<0.3.7,>=0.3.0\r\n",
      "  Using cached dill-0.3.1.1.tar.gz (151 kB)\r\n",
      "  Preparing metadata (setup.py) ... \u001B[?25ldone\r\n",
      "\u001B[?25hCollecting cloudpickle~=2.2.1\r\n",
      "  Using cached cloudpickle-2.2.1-py3-none-any.whl (25 kB)\r\n",
      "Collecting fastavro<2,>=0.23.6\r\n",
      "  Using cached fastavro-1.7.3.tar.gz (791 kB)\r\n",
      "  Installing build dependencies ... \u001B[?25ldone\r\n",
      "\u001B[?25h  Getting requirements to build wheel ... \u001B[?25ldone\r\n",
      "\u001B[?25h  Preparing metadata (pyproject.toml) ... \u001B[?25ldone\r\n",
      "\u001B[?25hCollecting fasteners<1.0,>=0.3\r\n",
      "  Using cached fasteners-0.18-py3-none-any.whl (18 kB)\r\n",
      "Collecting grpcio!=1.48.0,<2,>=1.33.1\r\n",
      "  Using cached grpcio-1.53.0-cp39-cp39-macosx_10_10_universal2.whl (8.5 MB)\r\n",
      "Collecting hdfs<3.0.0,>=2.1.0\r\n",
      "  Using cached hdfs-2.7.0-py3-none-any.whl (34 kB)\r\n",
      "Collecting httplib2<0.22.0,>=0.8\r\n",
      "  Using cached httplib2-0.21.0-py3-none-any.whl (96 kB)\r\n",
      "Collecting objsize<0.7.0,>=0.6.1\r\n",
      "  Using cached objsize-0.6.1-py3-none-any.whl (9.3 kB)\r\n",
      "Collecting pymongo<4.0.0,>=3.8.0\r\n",
      "  Using cached pymongo-3.13.0-cp39-cp39-macosx_10_9_universal2.whl (430 kB)\r\n",
      "Collecting proto-plus<2,>=1.7.1\r\n",
      "  Using cached proto_plus-1.22.2-py3-none-any.whl (47 kB)\r\n",
      "Collecting pydot<2,>=1.2.0\r\n",
      "  Using cached pydot-1.4.2-py2.py3-none-any.whl (21 kB)\r\n",
      "Requirement already satisfied: python-dateutil<3,>=2.8.0 in /Users/osuz/PycharmProjects/YaServiceRu/venv/lib/python3.9/site-packages (from apache-beam) (2.8.2)\r\n",
      "Requirement already satisfied: pytz>=2018.3 in /Users/osuz/PycharmProjects/YaServiceRu/venv/lib/python3.9/site-packages (from apache-beam) (2022.7.1)\r\n",
      "Requirement already satisfied: regex>=2020.6.8 in /Users/osuz/PycharmProjects/YaServiceRu/venv/lib/python3.9/site-packages (from apache-beam) (2022.10.31)\r\n",
      "Requirement already satisfied: typing-extensions>=3.7.0 in /Users/osuz/PycharmProjects/YaServiceRu/venv/lib/python3.9/site-packages (from apache-beam) (4.5.0)\r\n",
      "Collecting zstandard<1,>=0.18.0\r\n",
      "  Using cached zstandard-0.20.0-cp39-cp39-macosx_11_0_arm64.whl (355 kB)\r\n",
      "Collecting pyarrow>=6.0.0\r\n",
      "  Downloading pyarrow-9.0.0-cp39-cp39-macosx_11_0_arm64.whl (21.6 MB)\r\n",
      "\u001B[2K     \u001B[90m━━━━━━━━━━━━━━━━━━━━━━━━━━━━━━━━━━━━━━━\u001B[0m \u001B[32m21.6/21.6 MB\u001B[0m \u001B[31m169.7 kB/s\u001B[0m eta \u001B[36m0:00:00\u001B[0m00:01\u001B[0m00:04\u001B[0m\r\n",
      "\u001B[?25hRequirement already satisfied: async-timeout<5.0,>=4.0.0a3 in /Users/osuz/PycharmProjects/YaServiceRu/venv/lib/python3.9/site-packages (from aiohttp->datasets) (4.0.2)\r\n",
      "Requirement already satisfied: charset-normalizer<4.0,>=2.0 in /Users/osuz/PycharmProjects/YaServiceRu/venv/lib/python3.9/site-packages (from aiohttp->datasets) (3.1.0)\r\n",
      "Requirement already satisfied: aiosignal>=1.1.2 in /Users/osuz/PycharmProjects/YaServiceRu/venv/lib/python3.9/site-packages (from aiohttp->datasets) (1.3.1)\r\n",
      "Requirement already satisfied: yarl<2.0,>=1.0 in /Users/osuz/PycharmProjects/YaServiceRu/venv/lib/python3.9/site-packages (from aiohttp->datasets) (1.8.2)\r\n",
      "Requirement already satisfied: multidict<7.0,>=4.5 in /Users/osuz/PycharmProjects/YaServiceRu/venv/lib/python3.9/site-packages (from aiohttp->datasets) (6.0.4)\r\n",
      "Requirement already satisfied: frozenlist>=1.1.1 in /Users/osuz/PycharmProjects/YaServiceRu/venv/lib/python3.9/site-packages (from aiohttp->datasets) (1.3.3)\r\n",
      "Requirement already satisfied: attrs>=17.3.0 in /Users/osuz/PycharmProjects/YaServiceRu/venv/lib/python3.9/site-packages (from aiohttp->datasets) (22.2.0)\r\n",
      "Collecting docopt\r\n",
      "  Downloading docopt-0.6.2.tar.gz (25 kB)\r\n",
      "  Preparing metadata (setup.py) ... \u001B[?25ldone\r\n",
      "\u001B[?25hRequirement already satisfied: six>=1.9.0 in /Users/osuz/PycharmProjects/YaServiceRu/venv/lib/python3.9/site-packages (from hdfs<3.0.0,>=2.1.0->apache-beam) (1.16.0)\r\n",
      "Requirement already satisfied: pyparsing!=3.0.0,!=3.0.1,!=3.0.2,!=3.0.3,<4,>=2.4.2 in /Users/osuz/PycharmProjects/YaServiceRu/venv/lib/python3.9/site-packages (from httplib2<0.22.0,>=0.8->apache-beam) (3.0.9)\r\n",
      "Requirement already satisfied: filelock in /Users/osuz/PycharmProjects/YaServiceRu/venv/lib/python3.9/site-packages (from huggingface-hub<1.0.0,>=0.2.0->datasets) (3.10.0)\r\n",
      "Requirement already satisfied: idna<4,>=2.5 in /Users/osuz/PycharmProjects/YaServiceRu/venv/lib/python3.9/site-packages (from requests>=2.19.0->datasets) (3.4)\r\n",
      "Requirement already satisfied: certifi>=2017.4.17 in /Users/osuz/PycharmProjects/YaServiceRu/venv/lib/python3.9/site-packages (from requests>=2.19.0->datasets) (2022.9.24)\r\n",
      "Requirement already satisfied: urllib3<1.27,>=1.21.1 in /Users/osuz/PycharmProjects/YaServiceRu/venv/lib/python3.9/site-packages (from requests>=2.19.0->datasets) (1.26.15)\r\n",
      "Collecting multiprocess\r\n",
      "  Downloading multiprocess-0.70.13-py39-none-any.whl (132 kB)\r\n",
      "\u001B[2K     \u001B[90m━━━━━━━━━━━━━━━━━━━━━━━━━━━━━━━━━━━━━━━\u001B[0m \u001B[32m132.3/132.3 kB\u001B[0m \u001B[31m1.0 MB/s\u001B[0m eta \u001B[36m0:00:00\u001B[0ma \u001B[36m0:00:01\u001B[0m\r\n",
      "\u001B[?25h  Downloading multiprocess-0.70.12.2-py39-none-any.whl (128 kB)\r\n",
      "\u001B[2K     \u001B[90m━━━━━━━━━━━━━━━━━━━━━━━━━━━━━━━━━━━━━\u001B[0m \u001B[32m128.7/128.7 kB\u001B[0m \u001B[31m522.8 kB/s\u001B[0m eta \u001B[36m0:00:00\u001B[0ma \u001B[36m0:00:01\u001B[0m\r\n",
      "\u001B[?25h  Downloading multiprocess-0.70.12.1.zip (3.3 MB)\r\n",
      "\u001B[2K     \u001B[90m━━━━━━━━━━━━━━━━━━━━━━━━━━━━━━━━━━━━━━━━\u001B[0m \u001B[32m3.3/3.3 MB\u001B[0m \u001B[31m173.7 kB/s\u001B[0m eta \u001B[36m0:00:00\u001B[0m00:01\u001B[0m00:01\u001B[0m\r\n",
      "\u001B[?25h  Preparing metadata (setup.py) ... \u001B[?25ldone\r\n",
      "\u001B[?25h  Downloading multiprocess-0.70.12-py39-none-any.whl (128 kB)\r\n",
      "\u001B[2K     \u001B[90m━━━━━━━━━━━━━━━━━━━━━━━━━━━━━━━━━━━━━\u001B[0m \u001B[32m128.7/128.7 kB\u001B[0m \u001B[31m193.2 kB/s\u001B[0m eta \u001B[36m0:00:00\u001B[0ma \u001B[36m0:00:01\u001B[0m\r\n",
      "\u001B[?25h  Downloading multiprocess-0.70.11.1-py39-none-any.whl (126 kB)\r\n",
      "\u001B[2K     \u001B[90m━━━━━━━━━━━━━━━━━━━━━━━━━━━━━━━━━━━━━\u001B[0m \u001B[32m126.6/126.6 kB\u001B[0m \u001B[31m254.4 kB/s\u001B[0m eta \u001B[36m0:00:00\u001B[0ma \u001B[36m0:00:01\u001B[0m\r\n",
      "\u001B[?25h  Downloading multiprocess-0.70.11-py3-none-any.whl (98 kB)\r\n",
      "\u001B[2K     \u001B[90m━━━━━━━━━━━━━━━━━━━━━━━━━━━━━━━━━━━━━━━\u001B[0m \u001B[32m98.6/98.6 kB\u001B[0m \u001B[31m441.2 kB/s\u001B[0m eta \u001B[36m0:00:00\u001B[0ma \u001B[36m0:00:01\u001B[0m\r\n",
      "\u001B[?25h  Downloading multiprocess-0.70.10.zip (2.4 MB)\r\n",
      "\u001B[2K     \u001B[90m━━━━━━━━━━━━━━━━━━━━━━━━━━━━━━━━━━━━━━━━\u001B[0m \u001B[32m2.4/2.4 MB\u001B[0m \u001B[31m407.7 kB/s\u001B[0m eta \u001B[36m0:00:00\u001B[0m00:01\u001B[0m00:01\u001B[0m\r\n",
      "\u001B[?25h  Preparing metadata (setup.py) ... \u001B[?25ldone\r\n",
      "\u001B[?25h  Downloading multiprocess-0.70.9.tar.gz (1.6 MB)\r\n",
      "\u001B[2K     \u001B[90m━━━━━━━━━━━━━━━━━━━━━━━━━━━━━━━━━━━━━━━━\u001B[0m \u001B[32m1.6/1.6 MB\u001B[0m \u001B[31m213.2 kB/s\u001B[0m eta \u001B[36m0:00:00\u001B[0m00:01\u001B[0m00:01\u001B[0m\r\n",
      "\u001B[?25h  Preparing metadata (setup.py) ... \u001B[?25ldone\r\n",
      "\u001B[?25hBuilding wheels for collected packages: apache-beam, crcmod, dill, fastavro, multiprocess, docopt\r\n",
      "  Building wheel for apache-beam (setup.py) ... \u001B[?25ldone\r\n",
      "\u001B[?25h  Created wheel for apache-beam: filename=apache_beam-2.46.0-py3-none-any.whl size=3032277 sha256=b357944c2493edc5f2ee5d0aa8ecbc3cdc09ec263ea9c8b724f3d71964ed212a\r\n",
      "  Stored in directory: /Users/osuz/Library/Caches/pip/wheels/c7/1f/83/7dac675e7d249ec5c72a2f0c33926ec37639ab860c3c0d4808\r\n",
      "  Building wheel for crcmod (setup.py) ... \u001B[?25ldone\r\n",
      "\u001B[?25h  Created wheel for crcmod: filename=crcmod-1.7-cp39-cp39-macosx_13_0_arm64.whl size=22266 sha256=0245117a72c5ef303fc24a8622999976e0e60b257b6e730fb4084c0d39f8f969\r\n",
      "  Stored in directory: /Users/osuz/Library/Caches/pip/wheels/4a/6c/a6/ffdd136310039bf226f2707a9a8e6857be7d70a3fc061f6b36\r\n",
      "  Building wheel for dill (setup.py) ... \u001B[?25ldone\r\n",
      "\u001B[?25h  Created wheel for dill: filename=dill-0.3.1.1-py3-none-any.whl size=78544 sha256=90260c93c8ed5facb8ae5bca4a52b26249af11013b91ea3c8788384acbaf0fea\r\n",
      "  Stored in directory: /Users/osuz/Library/Caches/pip/wheels/4f/0b/ce/75d96dd714b15e51cb66db631183ea3844e0c4a6d19741a149\r\n",
      "  Building wheel for fastavro (pyproject.toml) ... \u001B[?25ldone\r\n",
      "\u001B[?25h  Created wheel for fastavro: filename=fastavro-1.7.3-cp39-cp39-macosx_13_0_arm64.whl size=467622 sha256=80dd3229c6a3f2a64bebf9d377ef0977a6a13f33031ba9dc0772b1f0c3cc5d17\r\n",
      "  Stored in directory: /Users/osuz/Library/Caches/pip/wheels/7c/09/fb/d1dd3cf39662d7814e0fe3058ca63ae04ce0514588746ff9bb\r\n",
      "  Building wheel for multiprocess (setup.py) ... \u001B[?25ldone\r\n",
      "\u001B[?25h  Created wheel for multiprocess: filename=multiprocess-0.70.9-py3-none-any.whl size=125283 sha256=44602b6ee39c8f49c76b5780fc2c211d71a9e4d204bd43aa15d5d05af4dc31d7\r\n",
      "  Stored in directory: /Users/osuz/Library/Caches/pip/wheels/42/11/d8/b959e3291132f362f07c763e23b9f581b74cd6e4962ed73b8d\r\n",
      "  Building wheel for docopt (setup.py) ... \u001B[?25ldone\r\n",
      "\u001B[?25h  Created wheel for docopt: filename=docopt-0.6.2-py2.py3-none-any.whl size=13723 sha256=0ada6411858f8969f5ba9cdb56eabcc84c31abda6d0ec570ab1caf5d1634cb92\r\n",
      "  Stored in directory: /Users/osuz/Library/Caches/pip/wheels/70/4a/46/1309fc853b8d395e60bafaf1b6df7845bdd82c95fd59dd8d2b\r\n",
      "Successfully built apache-beam crcmod dill fastavro multiprocess docopt\r\n",
      "Installing collected packages: docopt, crcmod, zstandard, pymongo, pydot, pyarrow, protobuf, orjson, objsize, httplib2, grpcio, fasteners, fastavro, dill, cloudpickle, proto-plus, multiprocess, hdfs, apache-beam\r\n",
      "  Attempting uninstall: pyarrow\r\n",
      "    Found existing installation: pyarrow 11.0.0\r\n",
      "    Uninstalling pyarrow-11.0.0:\r\n",
      "      Successfully uninstalled pyarrow-11.0.0\r\n",
      "  Attempting uninstall: dill\r\n",
      "    Found existing installation: dill 0.3.6\r\n",
      "    Uninstalling dill-0.3.6:\r\n",
      "      Successfully uninstalled dill-0.3.6\r\n",
      "  Attempting uninstall: multiprocess\r\n",
      "    Found existing installation: multiprocess 0.70.14\r\n",
      "    Uninstalling multiprocess-0.70.14:\r\n",
      "      Successfully uninstalled multiprocess-0.70.14\r\n",
      "Successfully installed apache-beam-2.46.0 cloudpickle-2.2.1 crcmod-1.7 dill-0.3.1.1 docopt-0.6.2 fastavro-1.7.3 fasteners-0.18 grpcio-1.53.0 hdfs-2.7.0 httplib2-0.21.0 multiprocess-0.70.9 objsize-0.6.1 orjson-3.8.9 proto-plus-1.22.2 protobuf-3.20.3 pyarrow-9.0.0 pydot-1.4.2 pymongo-3.13.0 zstandard-0.20.0\r\n"
     ]
    }
   ],
   "source": [
    "!pip3 install weaviate-client\n",
    "!pip3 install datasets apache-beam"
   ]
  },
  {
   "cell_type": "code",
   "execution_count": 13,
   "outputs": [],
   "source": [
    "import openai\n",
    "from configparser import ConfigParser\n",
    "\n",
    "constants = ConfigParser()\n",
    "constants.read(\"/Users/osuz/PycharmProjects/YaServiceRu/resources/constants.ini\")\n",
    "\n",
    "# get API key from top-right dropdown on OpenAI website\n",
    "openai.api_key = constants.get(\"API\", \"OPENAI\")"
   ],
   "metadata": {
    "collapsed": false
   }
  },
  {
   "cell_type": "code",
   "execution_count": 15,
   "outputs": [
    {
     "data": {
      "text/plain": "True"
     },
     "execution_count": 15,
     "metadata": {},
     "output_type": "execute_result"
    }
   ],
   "source": [
    "import weaviate\n",
    "from datasets import load_dataset\n",
    "import os\n",
    "\n",
    "# Connect to your Weaviate instance\n",
    "client = weaviate.Client(\n",
    "    url=\"http://localhost:8080/\",\n",
    "    additional_headers={\n",
    "        \"X-OpenAI-Api-Key\": openai.api_key\n",
    "    }\n",
    ")\n",
    "\n",
    "# Check if your instance is live and ready\n",
    "# This should return `True`\n",
    "client.is_ready()"
   ],
   "metadata": {
    "collapsed": false
   }
  },
  {
   "cell_type": "code",
   "execution_count": 7,
   "outputs": [
    {
     "data": {
      "text/plain": "{'classes': [{'class': 'Article',\n   'description': 'A collection of articles',\n   'invertedIndexConfig': {'bm25': {'b': 0.75, 'k1': 1.2},\n    'cleanupIntervalSeconds': 60,\n    'stopwords': {'additions': None, 'preset': 'en', 'removals': None}},\n   'moduleConfig': {'text2vec-openai': {'model': 'ada',\n     'modelVersion': '002',\n     'type': 'text',\n     'vectorizeClassName': True}},\n   'properties': [{'dataType': ['string'],\n     'description': 'Title of the article',\n     'moduleConfig': {'text2vec-openai': {'skip': False,\n       'vectorizePropertyName': False}},\n     'name': 'title',\n     'tokenization': 'word'},\n    {'dataType': ['text'],\n     'description': 'Contents of the article',\n     'moduleConfig': {'text2vec-openai': {'skip': False,\n       'vectorizePropertyName': False}},\n     'name': 'content',\n     'tokenization': 'word'},\n    {'dataType': ['string'],\n     'description': 'URL to the article',\n     'moduleConfig': {'text2vec-openai': {'skip': True,\n       'vectorizePropertyName': False}},\n     'name': 'url',\n     'tokenization': 'word'}],\n   'replicationConfig': {'factor': 1},\n   'shardingConfig': {'virtualPerPhysical': 128,\n    'desiredCount': 1,\n    'actualCount': 1,\n    'desiredVirtualCount': 128,\n    'actualVirtualCount': 128,\n    'key': '_id',\n    'strategy': 'hash',\n    'function': 'murmur3'},\n   'vectorIndexConfig': {'skip': False,\n    'cleanupIntervalSeconds': 300,\n    'maxConnections': 64,\n    'efConstruction': 128,\n    'ef': -1,\n    'dynamicEfMin': 100,\n    'dynamicEfMax': 500,\n    'dynamicEfFactor': 8,\n    'vectorCacheMaxObjects': 1000000000000,\n    'flatSearchCutoff': 40000,\n    'distance': 'cosine'},\n   'vectorIndexType': 'hnsw',\n   'vectorizer': 'text2vec-openai'}]}"
     },
     "execution_count": 7,
     "metadata": {},
     "output_type": "execute_result"
    }
   ],
   "source": [
    "# Clear up the schema, so that we can recreate it\n",
    "client.schema.delete_all()\n",
    "client.schema.get()\n",
    "\n",
    "# Define the Schema object to use `text-embedding-ada-002` on `title` and `content`, but skip it for `url`\n",
    "article_schema = {\n",
    "    \"class\": \"Article\",\n",
    "    \"description\": \"A collection of articles\",\n",
    "    \"vectorizer\": \"text2vec-openai\",\n",
    "    \"moduleConfig\": {\n",
    "        \"text2vec-openai\": {\n",
    "          \"model\": \"ada\",\n",
    "          \"modelVersion\": \"002\",\n",
    "          \"type\": \"text\"\n",
    "        }\n",
    "    },\n",
    "    \"properties\": [{\n",
    "        \"name\": \"title\",\n",
    "        \"description\": \"Title of the article\",\n",
    "        \"dataType\": [\"string\"]\n",
    "    },\n",
    "    {\n",
    "        \"name\": \"content\",\n",
    "        \"description\": \"Contents of the article\",\n",
    "        \"dataType\": [\"text\"]\n",
    "    },\n",
    "    {\n",
    "        \"name\": \"url\",\n",
    "        \"description\": \"URL to the article\",\n",
    "        \"dataType\": [\"string\"],\n",
    "        \"moduleConfig\": { \"text2vec-openai\": { \"skip\": True } }\n",
    "    }]\n",
    "}\n",
    "\n",
    "# add the Article schema\n",
    "client.schema.create_class(article_schema)\n",
    "\n",
    "# get the schema to make sure it worked\n",
    "client.schema.get()"
   ],
   "metadata": {
    "collapsed": false
   }
  },
  {
   "cell_type": "code",
   "execution_count": 10,
   "outputs": [
    {
     "name": "stdout",
     "output_type": "stream",
     "text": [
      "Downloading and preparing dataset wikipedia/20220301.simple to /Users/osuz/.cache/huggingface/datasets/wikipedia/20220301.simple/2.0.0/aa542ed919df55cc5d3347f42dd4521d05ca68751f50dbc32bae2a7f1e167559...\n"
     ]
    },
    {
     "data": {
      "text/plain": "Downloading:   0%|          | 0.00/1.66k [00:00<?, ?B/s]",
      "application/vnd.jupyter.widget-view+json": {
       "version_major": 2,
       "version_minor": 0,
       "model_id": "268f1d9d37de43c29498e5cdb69f864f"
      }
     },
     "metadata": {},
     "output_type": "display_data"
    },
    {
     "data": {
      "text/plain": "Downloading:   0%|          | 0.00/235M [00:00<?, ?B/s]",
      "application/vnd.jupyter.widget-view+json": {
       "version_major": 2,
       "version_minor": 0,
       "model_id": "67eaf72463814fb3a3757636e9cc343a"
      }
     },
     "metadata": {},
     "output_type": "display_data"
    },
    {
     "name": "stdout",
     "output_type": "stream",
     "text": [
      "Dataset wikipedia downloaded and prepared to /Users/osuz/.cache/huggingface/datasets/wikipedia/20220301.simple/2.0.0/aa542ed919df55cc5d3347f42dd4521d05ca68751f50dbc32bae2a7f1e167559. Subsequent calls will reuse this data.\n"
     ]
    },
    {
     "name": "stderr",
     "output_type": "stream",
     "text": [
      "/Users/osuz/PycharmProjects/YaServiceRu/venv/lib/python3.9/site-packages/hdfs/config.py:15: DeprecationWarning: the imp module is deprecated in favour of importlib; see the module's documentation for alternative uses\n",
      "  from imp import load_source\n",
      "/Users/osuz/PycharmProjects/YaServiceRu/venv/lib/python3.9/site-packages/ipykernel/comm/comm.py:79: DeprecationWarning: The `ipykernel.comm.Comm` class has been deprecated. Please use the `comm` module instead.For creating comms, use the function `from comm import create_comm`.\n",
      "  warn(\n"
     ]
    },
    {
     "data": {
      "text/plain": "  0%|          | 0/1 [00:00<?, ?it/s]",
      "application/vnd.jupyter.widget-view+json": {
       "version_major": 2,
       "version_minor": 0,
       "model_id": "7c5474f88e654612893a1b8276719506"
      }
     },
     "metadata": {},
     "output_type": "display_data"
    }
   ],
   "source": [
    "### STEP 1 - load the dataset\n",
    "\n",
    "from datasets import load_dataset\n",
    "from typing import List, Iterator\n",
    "\n",
    "# We'll use the datasets library to pull the Simple Wikipedia dataset for embedding\n",
    "dataset = list(load_dataset(\"wikipedia\", \"20220301.simple\")[\"train\"])\n",
    "\n",
    "# For testing, limited to 2.5k articles for demo purposes\n",
    "dataset = dataset[:50]"
   ],
   "metadata": {
    "collapsed": false
   }
  },
  {
   "cell_type": "code",
   "execution_count": 16,
   "outputs": [
    {
     "data": {
      "text/plain": "<weaviate.batch.crud_batch.Batch at 0x280de4910>"
     },
     "execution_count": 16,
     "metadata": {},
     "output_type": "execute_result"
    }
   ],
   "source": [
    "### Step 2 - configure Weaviate Batch, with\n",
    "# - starting batch size of 100\n",
    "# - dynamically increase/decrease based on performance\n",
    "# - add timeout retries if something goes wrong\n",
    "\n",
    "client.batch.configure(\n",
    "    batch_size=10,\n",
    "    dynamic=True,\n",
    "    timeout_retries=3,\n",
    "#   callback=None,\n",
    ")"
   ],
   "metadata": {
    "collapsed": false
   }
  },
  {
   "cell_type": "code",
   "execution_count": 17,
   "outputs": [
    {
     "name": "stdout",
     "output_type": "stream",
     "text": [
      "Importing Articles\n",
      "Import 0 / 50 \n",
      "Import 10 / 50 \n",
      "Import 20 / 50 \n",
      "Import 30 / 50 \n",
      "Import 40 / 50 \n",
      "Importing Articles complete\n"
     ]
    }
   ],
   "source": [
    "### Step 3 - import data\n",
    "\n",
    "print(\"Importing Articles\")\n",
    "\n",
    "counter=0\n",
    "\n",
    "with client.batch as batch:\n",
    "    for article in dataset:\n",
    "        if (counter %10 == 0):\n",
    "            print(f\"Import {counter} / {len(dataset)} \")\n",
    "\n",
    "        properties = {\n",
    "            \"title\": article[\"title\"],\n",
    "            \"content\": article[\"text\"],\n",
    "            \"url\": article[\"url\"]\n",
    "        }\n",
    "\n",
    "        batch.add_data_object(properties, \"Article\")\n",
    "        counter = counter+1\n",
    "\n",
    "print(\"Importing Articles complete\")"
   ],
   "metadata": {
    "collapsed": false
   }
  },
  {
   "cell_type": "code",
   "execution_count": 18,
   "outputs": [
    {
     "name": "stdout",
     "output_type": "stream",
     "text": [
      "Object count:  [{'meta': {'count': 50}}] \n",
      "\n"
     ]
    }
   ],
   "source": [
    "# Test that all data has loaded – get object count\n",
    "result = (\n",
    "    client.query.aggregate(\"Article\")\n",
    "    .with_fields(\"meta { count }\")\n",
    "    .do()\n",
    ")\n",
    "print(\"Object count: \", result[\"data\"][\"Aggregate\"][\"Article\"], \"\\n\")"
   ],
   "metadata": {
    "collapsed": false
   }
  },
  {
   "cell_type": "code",
   "execution_count": 19,
   "outputs": [
    {
     "name": "stdout",
     "output_type": "stream",
     "text": [
      "Abrahamic religion\n",
      "https://simple.wikipedia.org/wiki/Abrahamic%20religion\n",
      "An Abrahamic Religion is a religion whose followers believe in the prophet Abraham. They believe Abraham and his sons/grandsons hold an important role in human spiritual development. The best known Abrahamic religions are Judaism, Christianity and Islam. Smaller religious traditions sometimes included as Abrahamic religions are Samaritanism, Druze, Rastafari, Babism and Bahá'í Faith. Mandaeism (a religion that holds many Abrahamic beliefs) is not called Abrahamic because its followers think Abraham was a false prophet\n",
      "\n",
      "True Abrahamic religions are monotheistic (the belief that there is only one God). They also all believe that people should pray to God and worship God often. Among monotheistic religions, the Abrahamic religions have the world's largest number of followers. They are also all ethical monotheistic religions. This means they have rules that they have to follow.\n",
      "\n",
      "Religions\n"
     ]
    }
   ],
   "source": [
    "# Test one article has worked by checking one object\n",
    "test_article = (\n",
    "    client.query\n",
    "    .get(\"Article\", [\"title\", \"url\", \"content\"])\n",
    "    .with_limit(1)\n",
    "    .do()\n",
    ")[\"data\"][\"Get\"][\"Article\"][0]\n",
    "\n",
    "print(test_article['title'])\n",
    "print(test_article['url'])\n",
    "print(test_article['content'])"
   ],
   "metadata": {
    "collapsed": false
   }
  },
  {
   "cell_type": "code",
   "execution_count": 20,
   "outputs": [],
   "source": [
    "def query_weaviate(query, collection_name):\n",
    "\n",
    "    nearText = {\n",
    "        \"concepts\": [query],\n",
    "        \"distance\": 0.7,\n",
    "    }\n",
    "\n",
    "    properties = [\n",
    "        \"title\", \"content\", \"url\",\n",
    "        \"_additional {certainty distance}\"\n",
    "    ]\n",
    "\n",
    "    result = (\n",
    "        client.query\n",
    "        .get(collection_name, properties)\n",
    "        .with_near_text(nearText)\n",
    "        .with_limit(10)\n",
    "        .do()\n",
    "    )\n",
    "\n",
    "    # Check for errors\n",
    "    if (\"errors\" in result):\n",
    "        print (\"\\033[91mYou probably have run out of OpenAI API calls for the current minute – the limit is set at 60 per minute.\")\n",
    "        raise Exception(result[\"errors\"][0]['message'])\n",
    "\n",
    "    return result[\"data\"][\"Get\"][collection_name]"
   ],
   "metadata": {
    "collapsed": false
   }
  },
  {
   "cell_type": "code",
   "execution_count": 21,
   "outputs": [
    {
     "name": "stdout",
     "output_type": "stream",
     "text": [
      "1. Art (Score: 0.896)\n",
      "2. Architecture (Score: 0.893)\n",
      "3. Austria (Score: 0.882)\n",
      "4. Armenia (Score: 0.876)\n",
      "5. Archaeology (Score: 0.872)\n",
      "6. Autonomous communities of Spain (Score: 0.871)\n",
      "7. Astronomy (Score: 0.871)\n",
      "8. Alan Turing (Score: 0.871)\n",
      "9. Being (Score: 0.869)\n",
      "10. Afghanistan (Score: 0.866)\n"
     ]
    }
   ],
   "source": [
    "query_result = query_weaviate(\"modern art in Europe\", \"Article\")\n",
    "\n",
    "for i, article in enumerate(query_result):\n",
    "    print(f\"{i+1}. { article['title']} (Score: {round(article['_additional']['certainty'],3) })\")"
   ],
   "metadata": {
    "collapsed": false
   }
  },
  {
   "cell_type": "code",
   "execution_count": 22,
   "outputs": [
    {
     "name": "stdout",
     "output_type": "stream",
     "text": [
      "1. Alan Turing (Score: 0.867)\n",
      "2. Australia (Score: 0.858)\n",
      "3. Black pudding (Score: 0.858)\n",
      "4. Alanis Morissette (Score: 0.854)\n",
      "5. April (Score: 0.854)\n",
      "6. Afghanistan (Score: 0.854)\n",
      "7. British English (Score: 0.854)\n",
      "8. Austria (Score: 0.851)\n",
      "9. Architecture (Score: 0.85)\n",
      "10. Argentina (Score: 0.85)\n"
     ]
    }
   ],
   "source": [
    "\n",
    "query_result = query_weaviate(\"Famous battles in Scottish history\", \"Article\")\n",
    "\n",
    "for i, article in enumerate(query_result):\n",
    "    print(f\"{i+1}. { article['title']} (Score: {round(article['_additional']['certainty'],3) })\")"
   ],
   "metadata": {
    "collapsed": false
   }
  }
 ],
 "metadata": {
  "kernelspec": {
   "display_name": "Python 3",
   "language": "python",
   "name": "python3"
  },
  "language_info": {
   "codemirror_mode": {
    "name": "ipython",
    "version": 2
   },
   "file_extension": ".py",
   "mimetype": "text/x-python",
   "name": "python",
   "nbconvert_exporter": "python",
   "pygments_lexer": "ipython2",
   "version": "2.7.6"
  }
 },
 "nbformat": 4,
 "nbformat_minor": 0
}
